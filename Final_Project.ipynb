{
  "nbformat": 4,
  "nbformat_minor": 0,
  "metadata": {
    "colab": {
      "name": "Final Project.ipynb",
      "provenance": []
    },
    "kernelspec": {
      "name": "python3",
      "display_name": "Python 3"
    },
    "language_info": {
      "name": "python"
    }
  },
  "cells": [
    {
      "cell_type": "code",
      "metadata": {
        "id": "RKWzjmvp3JIH"
      },
      "source": [
        "import seaborn as sns\n",
        "import matplotlib.pyplot as plt \n",
        "import os \n",
        "import pandas as pd \n",
        "import numpy as np\n",
        "from sklearn.preprocessing import LabelEncoder\n",
        "from sklearn.cluster import KMeans"
      ],
      "execution_count": 217,
      "outputs": []
    },
    {
      "cell_type": "code",
      "metadata": {
        "colab": {
          "base_uri": "https://localhost:8080/"
        },
        "id": "3Vj15Klm3Tjl",
        "outputId": "7551aac5-483e-415e-a4b9-52c1a2c49a22"
      },
      "source": [
        "os.listdir(\".\")"
      ],
      "execution_count": 218,
      "outputs": [
        {
          "output_type": "execute_result",
          "data": {
            "text/plain": [
              "['.config', '.ipynb_checkpoints', 'plastics-top-rivers.csv', 'sample_data']"
            ]
          },
          "metadata": {},
          "execution_count": 218
        }
      ]
    },
    {
      "cell_type": "code",
      "metadata": {
        "colab": {
          "base_uri": "https://localhost:8080/",
          "height": 206
        },
        "id": "H2JcNOmU3djv",
        "outputId": "08403b46-9b06-4278-a105-b47ba94595d6"
      },
      "source": [
        "filename = \"plastics-top-rivers.csv\"\n",
        "score_df = pd.read_csv(filename)\n",
        "score_df.head()"
      ],
      "execution_count": 219,
      "outputs": [
        {
          "output_type": "execute_result",
          "data": {
            "text/html": [
              "<div>\n",
              "<style scoped>\n",
              "    .dataframe tbody tr th:only-of-type {\n",
              "        vertical-align: middle;\n",
              "    }\n",
              "\n",
              "    .dataframe tbody tr th {\n",
              "        vertical-align: top;\n",
              "    }\n",
              "\n",
              "    .dataframe thead th {\n",
              "        text-align: right;\n",
              "    }\n",
              "</style>\n",
              "<table border=\"1\" class=\"dataframe\">\n",
              "  <thead>\n",
              "    <tr style=\"text-align: right;\">\n",
              "      <th></th>\n",
              "      <th>Entity</th>\n",
              "      <th>Country</th>\n",
              "      <th>sharePlastics</th>\n",
              "      <th>plasticWaste</th>\n",
              "    </tr>\n",
              "  </thead>\n",
              "  <tbody>\n",
              "    <tr>\n",
              "      <th>0</th>\n",
              "      <td>Agno</td>\n",
              "      <td>Philippines</td>\n",
              "      <td>0.469647</td>\n",
              "      <td>29587790</td>\n",
              "    </tr>\n",
              "    <tr>\n",
              "      <th>1</th>\n",
              "      <td>Agusan</td>\n",
              "      <td>Philippines</td>\n",
              "      <td>0.469647</td>\n",
              "      <td>29587790</td>\n",
              "    </tr>\n",
              "    <tr>\n",
              "      <th>2</th>\n",
              "      <td>Bharathappuzha</td>\n",
              "      <td>India</td>\n",
              "      <td>0.357340</td>\n",
              "      <td>22512450</td>\n",
              "    </tr>\n",
              "    <tr>\n",
              "      <th>3</th>\n",
              "      <td>Cagayan River</td>\n",
              "      <td>Philippines</td>\n",
              "      <td>0.234824</td>\n",
              "      <td>14793900</td>\n",
              "    </tr>\n",
              "    <tr>\n",
              "      <th>4</th>\n",
              "      <td>Cagayan de Oro</td>\n",
              "      <td>Philippines</td>\n",
              "      <td>0.265453</td>\n",
              "      <td>16723530</td>\n",
              "    </tr>\n",
              "  </tbody>\n",
              "</table>\n",
              "</div>"
            ],
            "text/plain": [
              "           Entity      Country  sharePlastics  plasticWaste\n",
              "0            Agno  Philippines       0.469647      29587790\n",
              "1          Agusan  Philippines       0.469647      29587790\n",
              "2  Bharathappuzha        India       0.357340      22512450\n",
              "3   Cagayan River  Philippines       0.234824      14793900\n",
              "4  Cagayan de Oro  Philippines       0.265453      16723530"
            ]
          },
          "metadata": {},
          "execution_count": 219
        }
      ]
    },
    {
      "cell_type": "markdown",
      "metadata": {
        "id": "vQOO0yDn3mAn"
      },
      "source": [
        "Looking at the csv we see that we are only working with three columns of data. This is going to be less focused on checking data viablility and more about exploring what the data has to offer."
      ]
    },
    {
      "cell_type": "code",
      "metadata": {
        "colab": {
          "base_uri": "https://localhost:8080/",
          "height": 206
        },
        "id": "lI2aJXw733ho",
        "outputId": "357b4dc2-d428-4f6b-84fb-a12b08a33cc5"
      },
      "source": [
        "score_df.rename(columns={\"Entity\":\"River\", \"sharePlastics\":\"globalPercentage\"},inplace=True)\n",
        "score_df.head()"
      ],
      "execution_count": 220,
      "outputs": [
        {
          "output_type": "execute_result",
          "data": {
            "text/html": [
              "<div>\n",
              "<style scoped>\n",
              "    .dataframe tbody tr th:only-of-type {\n",
              "        vertical-align: middle;\n",
              "    }\n",
              "\n",
              "    .dataframe tbody tr th {\n",
              "        vertical-align: top;\n",
              "    }\n",
              "\n",
              "    .dataframe thead th {\n",
              "        text-align: right;\n",
              "    }\n",
              "</style>\n",
              "<table border=\"1\" class=\"dataframe\">\n",
              "  <thead>\n",
              "    <tr style=\"text-align: right;\">\n",
              "      <th></th>\n",
              "      <th>River</th>\n",
              "      <th>Country</th>\n",
              "      <th>globalPercentage</th>\n",
              "      <th>plasticWaste</th>\n",
              "    </tr>\n",
              "  </thead>\n",
              "  <tbody>\n",
              "    <tr>\n",
              "      <th>0</th>\n",
              "      <td>Agno</td>\n",
              "      <td>Philippines</td>\n",
              "      <td>0.469647</td>\n",
              "      <td>29587790</td>\n",
              "    </tr>\n",
              "    <tr>\n",
              "      <th>1</th>\n",
              "      <td>Agusan</td>\n",
              "      <td>Philippines</td>\n",
              "      <td>0.469647</td>\n",
              "      <td>29587790</td>\n",
              "    </tr>\n",
              "    <tr>\n",
              "      <th>2</th>\n",
              "      <td>Bharathappuzha</td>\n",
              "      <td>India</td>\n",
              "      <td>0.357340</td>\n",
              "      <td>22512450</td>\n",
              "    </tr>\n",
              "    <tr>\n",
              "      <th>3</th>\n",
              "      <td>Cagayan River</td>\n",
              "      <td>Philippines</td>\n",
              "      <td>0.234824</td>\n",
              "      <td>14793900</td>\n",
              "    </tr>\n",
              "    <tr>\n",
              "      <th>4</th>\n",
              "      <td>Cagayan de Oro</td>\n",
              "      <td>Philippines</td>\n",
              "      <td>0.265453</td>\n",
              "      <td>16723530</td>\n",
              "    </tr>\n",
              "  </tbody>\n",
              "</table>\n",
              "</div>"
            ],
            "text/plain": [
              "            River      Country  globalPercentage  plasticWaste\n",
              "0            Agno  Philippines          0.469647      29587790\n",
              "1          Agusan  Philippines          0.469647      29587790\n",
              "2  Bharathappuzha        India          0.357340      22512450\n",
              "3   Cagayan River  Philippines          0.234824      14793900\n",
              "4  Cagayan de Oro  Philippines          0.265453      16723530"
            ]
          },
          "metadata": {},
          "execution_count": 220
        }
      ]
    },
    {
      "cell_type": "code",
      "metadata": {
        "colab": {
          "base_uri": "https://localhost:8080/"
        },
        "id": "ZGsdsgZg4dUx",
        "outputId": "92a31dc4-b1e5-4bce-815f-14b19b33fee2"
      },
      "source": [
        "score_df.dtypes"
      ],
      "execution_count": 221,
      "outputs": [
        {
          "output_type": "execute_result",
          "data": {
            "text/plain": [
              "River                object\n",
              "Country              object\n",
              "globalPercentage    float64\n",
              "plasticWaste          int64\n",
              "dtype: object"
            ]
          },
          "metadata": {},
          "execution_count": 221
        }
      ]
    },
    {
      "cell_type": "code",
      "metadata": {
        "colab": {
          "base_uri": "https://localhost:8080/",
          "height": 582
        },
        "id": "JhCm-W6b5B5r",
        "outputId": "42649ef1-1c7e-4874-ed6d-1c7561185208"
      },
      "source": [
        "countries = score_df.groupby(['Country']).sum()\n",
        "countries"
      ],
      "execution_count": 222,
      "outputs": [
        {
          "output_type": "execute_result",
          "data": {
            "text/html": [
              "<div>\n",
              "<style scoped>\n",
              "    .dataframe tbody tr th:only-of-type {\n",
              "        vertical-align: middle;\n",
              "    }\n",
              "\n",
              "    .dataframe tbody tr th {\n",
              "        vertical-align: top;\n",
              "    }\n",
              "\n",
              "    .dataframe thead th {\n",
              "        text-align: right;\n",
              "    }\n",
              "</style>\n",
              "<table border=\"1\" class=\"dataframe\">\n",
              "  <thead>\n",
              "    <tr style=\"text-align: right;\">\n",
              "      <th></th>\n",
              "      <th>globalPercentage</th>\n",
              "      <th>plasticWaste</th>\n",
              "    </tr>\n",
              "    <tr>\n",
              "      <th>Country</th>\n",
              "      <th></th>\n",
              "      <th></th>\n",
              "    </tr>\n",
              "  </thead>\n",
              "  <tbody>\n",
              "    <tr>\n",
              "      <th>Bangladesh</th>\n",
              "      <td>0.265453</td>\n",
              "      <td>16723530</td>\n",
              "    </tr>\n",
              "    <tr>\n",
              "      <th>Brazil</th>\n",
              "      <td>0.265453</td>\n",
              "      <td>16723530</td>\n",
              "    </tr>\n",
              "    <tr>\n",
              "      <th>Cameroon</th>\n",
              "      <td>0.520696</td>\n",
              "      <td>32803860</td>\n",
              "    </tr>\n",
              "    <tr>\n",
              "      <th>China</th>\n",
              "      <td>0.918876</td>\n",
              "      <td>57889150</td>\n",
              "    </tr>\n",
              "    <tr>\n",
              "      <th>Cote d'Ivoire</th>\n",
              "      <td>0.336921</td>\n",
              "      <td>21226030</td>\n",
              "    </tr>\n",
              "    <tr>\n",
              "      <th>Dominican Republic</th>\n",
              "      <td>0.224614</td>\n",
              "      <td>14150680</td>\n",
              "    </tr>\n",
              "    <tr>\n",
              "      <th>India</th>\n",
              "      <td>3.940955</td>\n",
              "      <td>248280170</td>\n",
              "    </tr>\n",
              "    <tr>\n",
              "      <th>Indonesia</th>\n",
              "      <td>0.285872</td>\n",
              "      <td>18009960</td>\n",
              "    </tr>\n",
              "    <tr>\n",
              "      <th>Malaysia</th>\n",
              "      <td>2.429915</td>\n",
              "      <td>153084660</td>\n",
              "    </tr>\n",
              "    <tr>\n",
              "      <th>Myamnar</th>\n",
              "      <td>0.622793</td>\n",
              "      <td>39235980</td>\n",
              "    </tr>\n",
              "    <tr>\n",
              "      <th>Nigeria</th>\n",
              "      <td>0.408389</td>\n",
              "      <td>25728520</td>\n",
              "    </tr>\n",
              "    <tr>\n",
              "      <th>Philippines</th>\n",
              "      <td>15.345222</td>\n",
              "      <td>966748930</td>\n",
              "    </tr>\n",
              "    <tr>\n",
              "      <th>Sri Lanka</th>\n",
              "      <td>0.275663</td>\n",
              "      <td>17366750</td>\n",
              "    </tr>\n",
              "    <tr>\n",
              "      <th>Tanzania</th>\n",
              "      <td>0.326711</td>\n",
              "      <td>20582810</td>\n",
              "    </tr>\n",
              "    <tr>\n",
              "      <th>Thailand</th>\n",
              "      <td>0.408389</td>\n",
              "      <td>25728520</td>\n",
              "    </tr>\n",
              "    <tr>\n",
              "      <th>Vietnam</th>\n",
              "      <td>0.418599</td>\n",
              "      <td>26371730</td>\n",
              "    </tr>\n",
              "  </tbody>\n",
              "</table>\n",
              "</div>"
            ],
            "text/plain": [
              "                    globalPercentage  plasticWaste\n",
              "Country                                           \n",
              "Bangladesh                  0.265453      16723530\n",
              "Brazil                      0.265453      16723530\n",
              "Cameroon                    0.520696      32803860\n",
              "China                       0.918876      57889150\n",
              "Cote d'Ivoire               0.336921      21226030\n",
              "Dominican Republic          0.224614      14150680\n",
              "India                       3.940955     248280170\n",
              "Indonesia                   0.285872      18009960\n",
              "Malaysia                    2.429915     153084660\n",
              "Myamnar                     0.622793      39235980\n",
              "Nigeria                     0.408389      25728520\n",
              "Philippines                15.345222     966748930\n",
              "Sri Lanka                   0.275663      17366750\n",
              "Tanzania                    0.326711      20582810\n",
              "Thailand                    0.408389      25728520\n",
              "Vietnam                     0.418599      26371730"
            ]
          },
          "metadata": {},
          "execution_count": 222
        }
      ]
    },
    {
      "cell_type": "markdown",
      "metadata": {
        "id": "DCjRUwUMBMjR"
      },
      "source": [
        "Now we need to work on the global percentage column. We want trash by volume so we will need to convert using 6.3 billion tons as the global total of plastic waste to date."
      ]
    },
    {
      "cell_type": "code",
      "metadata": {
        "colab": {
          "base_uri": "https://localhost:8080/"
        },
        "id": "r0awDX8GDXMZ",
        "outputId": "3311a0b9-ca14-43ec-fd15-9e373b07efa0"
      },
      "source": [
        "print (score_df)"
      ],
      "execution_count": 223,
      "outputs": [
        {
          "output_type": "stream",
          "name": "stdout",
          "text": [
            "                     River             Country  globalPercentage  plasticWaste\n",
            "0                     Agno         Philippines          0.469647      29587790\n",
            "1                   Agusan         Philippines          0.469647      29587790\n",
            "2           Bharathappuzha               India          0.357340      22512450\n",
            "3            Cagayan River         Philippines          0.234824      14793900\n",
            "4           Cagayan de Oro         Philippines          0.265453      16723530\n",
            "5              Chao Phraya            Thailand          0.408389      25728520\n",
            "6           Chenzhen River               China          0.296082      18653170\n",
            "7            Chilyar River               India          0.234824      14793900\n",
            "8                Cilliwung           Indonesia          0.285872      18009960\n",
            "9              Davao River         Philippines          0.265453      16723530\n",
            "10          Douala Estuary            Cameroon          0.234824      14793900\n",
            "11            Ebrie Lagoon       Cote d'Ivoire          0.336921      21226030\n",
            "12                  Ganges               India          0.633003      39879200\n",
            "13               Hamulauon         Philippines          0.224614      14150680\n",
            "14                 Huangpu               China          0.367550      23155660\n",
            "15                   Hugli               India          0.398179      25085300\n",
            "16                  Iloilo         Philippines          0.428809      27014940\n",
            "17                    Imus         Philippines          0.316502      19939600\n",
            "18            Jalaur River         Philippines          0.234824      14793900\n",
            "19              Karnaphuli          Bangladesh          0.265453      16723530\n",
            "20                  Kelani           Sri Lanka          0.275663      17366750\n",
            "21          Kelantan River            Malaysia          0.255243      16080320\n",
            "22                   Klang            Malaysia          1.327265      83617670\n",
            "23           Lagos Harbour             Nigeria          0.408389      25728520\n",
            "24                  Langat            Malaysia          0.285872      18009960\n",
            "25                Libmanan         Philippines          0.724891      45668110\n",
            "26             Malad Creek               India          0.275663      17366750\n",
            "27          Malaking Tubig         Philippines          0.255243      16080320\n",
            "28              Meycauayan         Philippines          1.225167      77185550\n",
            "29             Mithi River               India          0.224614      14150680\n",
            "30          Msimbazi River            Tanzania          0.326711      20582810\n",
            "31                Pampanga         Philippines          0.949505      59818800\n",
            "32            Panvel Creek               India          0.255243      16080320\n",
            "33               Paranaque         Philippines          0.449228      28301370\n",
            "34                   Pasig         Philippines          6.432129     405224100\n",
            "35        Pazundaung Creek             Myamnar          0.367550      23155660\n",
            "36           Periyar River               India          0.234824      14793900\n",
            "37  Rio Grande de Mindanao         Philippines          0.541116      34090280\n",
            "38               Rio Ozama  Dominican Republic          0.224614      14150680\n",
            "39              Rio Pavuna              Brazil          0.265453      16723530\n",
            "40                 Sarawak            Malaysia          0.336921      21226030\n",
            "41                Soai Rap             Vietnam          0.418599      26371730\n",
            "42          Sungai Kuantan            Malaysia          0.224614      14150680\n",
            "43                   Tambo         Philippines          0.255243      16080320\n",
            "44                Tullahan         Philippines          1.327265      83617670\n",
            "45                   Ulhas               India          1.327265      83617670\n",
            "46             Wouri River            Cameroon          0.285872      18009960\n",
            "47            Yangon River             Myamnar          0.255243      16080320\n",
            "48                  Zapote         Philippines          0.275663      17366750\n",
            "49                Zhujiang               China          0.255243      16080320\n"
          ]
        }
      ]
    },
    {
      "cell_type": "markdown",
      "metadata": {
        "id": "GXYU9G7SEfyj"
      },
      "source": [
        "Now that we have the waste by volume we can start to see how much trash is being added to the ocean each year as both a total and from different rivers and countries."
      ]
    },
    {
      "cell_type": "code",
      "metadata": {
        "colab": {
          "base_uri": "https://localhost:8080/"
        },
        "id": "QQkvpJxUEfRd",
        "outputId": "94116919-8199-4bbb-a3c3-9dbdc016c937"
      },
      "source": [
        "sumScores = score_df['plasticWaste'].sum()\n",
        "sumScores"
      ],
      "execution_count": 225,
      "outputs": [
        {
          "output_type": "execute_result",
          "data": {
            "text/plain": [
              "1700654810"
            ]
          },
          "metadata": {},
          "execution_count": 225
        }
      ]
    },
    {
      "cell_type": "code",
      "metadata": {
        "colab": {
          "base_uri": "https://localhost:8080/",
          "height": 1000
        },
        "id": "7L1HWcO7QuWF",
        "outputId": "0005e8b4-fd74-4c21-bfed-acdedc46e696"
      },
      "source": [
        "# Set canvas background color the same as axes\n",
        "plt.rc('figure', facecolor='w')\n",
        "\n",
        "countryList = ['Bangladesh', 'Brazil', 'Cameroon', 'China',\t\"Cote d'Ivoire\",\t'Dominican Republic',\t'India',\t'Indonesia',\t'Malaysia',\t'Myamnar',\t'Nigeria',\t'Philippines',\t'Sri Lanka',\t'Tanzania',\t'Thailand',\t'Vietnam']\n",
        "\n",
        "# set constrianed_layout as True to avoid axes overlap\n",
        "fig = plt.figure(figsize=(16,16), dpi=100, constrained_layout=True)\n",
        "\n",
        "# Use GridSpec for customising layout\n",
        "gs = fig.add_gridspec(nrows=18, ncols=10)\n",
        "\n",
        "# Set up a empty axes that occupied 2 rows and 10 cols in the grid for text\n",
        "axText = fig.add_subplot(gs[0:2, :])\n",
        "axText.annotate('I am ax1', (0.5, 0.5),\n",
        "                xycoords='axes fraction', va='center', ha='center')\n",
        "axText.get_xaxis().set_visible(False)\n",
        "axText.get_yaxis().set_visible(False)\n",
        "\n",
        "# Add axes for temperature bar plots that each occupy 1 row and 8 cols in the grid\n",
        "for i, city in enumerate(countryList):\n",
        "    ax = fig.add_subplot(gs[i+2, :], ylim=(-30, 30))\n",
        "    ax.annotate('I am ax{}'.format(i+2), (0.5, 0.5),\n",
        "                xycoords='axes fraction', va='center', ha='center')\n",
        "    ax.get_xaxis().set_visible(False)\n",
        "    ax.get_yaxis().set_visible(False)\n",
        "\n",
        "\n",
        "\n",
        "\n",
        "plt.show()"
      ],
      "execution_count": 231,
      "outputs": [
        {
          "output_type": "display_data",
          "data": {
            "image/png": "[encoded data removed]",
            "text/plain": [
              "<Figure size 1600x1600 with 17 Axes>"
            ]
          },
          "metadata": {}
        }
      ]
    },
    {
      "cell_type": "code",
      "metadata": {
        "colab": {
          "base_uri": "https://localhost:8080/"
        },
        "id": "j9z9IReDQNvX",
        "outputId": "6d4e1f3f-9cc7-46c5-87b1-9e611d6053d8"
      },
      "source": [
        "for i, country in enumerate(countryList):\n",
        "    ax = fig.add_subplot(gs[i+2, :], ylim=(-30, 30))\n",
        "    \n",
        "    df_tmp = score_df[score_df['Country'] == country]\n",
        "    ax.bar(df_tmp.plasticWaste, 6300000000 , width=0.7, align=\"edge\")\n",
        "    \n",
        "    \n",
        "    # customise axes\n",
        "    ax.spines['bottom'].set_color(None)  \n",
        "    ax.spines['right'].set_color(None)  \n",
        "    ax.spines['left'].set_color(None)  \n",
        "    ax.spines['top'].set_color(None) \n",
        "    ax.get_xaxis().set_ticks([])\n",
        "    ax.get_yaxis().set_ticks([])\n",
        "    ax.set_ylabel(city.title(), rotation=0, color='#e3e3e3', fontsize=10, fontweight='bold')"
      ],
      "execution_count": 233,
      "outputs": [
        {
          "output_type": "stream",
          "name": "stderr",
          "text": [
            "/usr/local/lib/python3.7/dist-packages/ipykernel_launcher.py:2: MatplotlibDeprecationWarning: Adding an axes using the same arguments as a previous axes currently reuses the earlier instance.  In a future version, a new instance will always be created and returned.  Meanwhile, this warning can be suppressed, and the future behavior ensured, by passing a unique label to each axes instance.\n",
            "  \n"
          ]
        }
      ]
    }
  ]
}