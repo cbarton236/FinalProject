{
  "nbformat": 4,
  "nbformat_minor": 0,
  "metadata": {
    "colab": {
      "name": "Final Project.ipynb",
      "provenance": [],
      "authorship_tag": "ABX9TyP1j2WqLvfjpHOkxusNiX/L",
      "include_colab_link": true
    },
    "kernelspec": {
      "name": "python3",
      "display_name": "Python 3"
    },
    "language_info": {
      "name": "python"
    }
  },
  "cells": [
    {
      "cell_type": "markdown",
      "metadata": {
        "id": "view-in-github",
        "colab_type": "text"
      },
      "source": [
        "<a href=\"https://colab.research.google.com/github/cbarton236/FinalProject/blob/main/Final_Project.ipynb\" target=\"_parent\"><img src=\"https://colab.research.google.com/assets/colab-badge.svg\" alt=\"Open In Colab\"/></a>"
      ]
    },
    {
      "cell_type": "markdown",
      "metadata": {
        "id": "ckhyv56rhaY-"
      },
      "source": [
        "# Ocean Plastic Pollution from River Sources"
      ]
    },
    {
      "cell_type": "markdown",
      "metadata": {
        "id": "3pvpF-B6h_Cs"
      },
      "source": [
        "We are going to be looking at the top 50 rivers for plastic pollution that ends up in the oceans. All rivers that empty into the ocean contribute to the pollution but today we are only looking at the top 50 rivers."
      ]
    },
    {
      "cell_type": "code",
      "metadata": {
        "id": "RKWzjmvp3JIH"
      },
      "source": [
        "import seaborn as sns\n",
        "import matplotlib.pyplot as plt \n",
        "import os \n",
        "import pandas as pd \n",
        "import numpy as np\n",
        "from sklearn.preprocessing import LabelEncoder\n",
        "from sklearn.cluster import KMeans"
      ],
      "execution_count": null,
      "outputs": []
    },
    {
      "cell_type": "code",
      "metadata": {
        "colab": {
          "base_uri": "https://localhost:8080/"
        },
        "id": "3Vj15Klm3Tjl",
        "outputId": "bb2b7b66-a9fd-47c1-ddf4-ed9101497a1e"
      },
      "source": [
        "os.listdir(\".\")"
      ],
      "execution_count": null,
      "outputs": [
        {
          "output_type": "execute_result",
          "data": {
            "text/plain": [
              "['.config', 'plastics-top-rivers.csv', 'sample_data']"
            ]
          },
          "metadata": {},
          "execution_count": 2
        }
      ]
    },
    {
      "cell_type": "code",
      "metadata": {
        "colab": {
          "base_uri": "https://localhost:8080/",
          "height": 206
        },
        "id": "H2JcNOmU3djv",
        "outputId": "626139fd-7a27-4872-ca04-98f6870a5ab2"
      },
      "source": [
        "filename = \"plastics-top-rivers.csv\"\n",
        "score_df = pd.read_csv(filename)\n",
        "score_df.head()"
      ],
      "execution_count": null,
      "outputs": [
        {
          "output_type": "execute_result",
          "data": {
            "text/html": [
              "<div>\n",
              "<style scoped>\n",
              "    .dataframe tbody tr th:only-of-type {\n",
              "        vertical-align: middle;\n",
              "    }\n",
              "\n",
              "    .dataframe tbody tr th {\n",
              "        vertical-align: top;\n",
              "    }\n",
              "\n",
              "    .dataframe thead th {\n",
              "        text-align: right;\n",
              "    }\n",
              "</style>\n",
              "<table border=\"1\" class=\"dataframe\">\n",
              "  <thead>\n",
              "    <tr style=\"text-align: right;\">\n",
              "      <th></th>\n",
              "      <th>Entity</th>\n",
              "      <th>Country</th>\n",
              "      <th>sharePlastics</th>\n",
              "      <th>plasticWaste</th>\n",
              "    </tr>\n",
              "  </thead>\n",
              "  <tbody>\n",
              "    <tr>\n",
              "      <th>0</th>\n",
              "      <td>Agno</td>\n",
              "      <td>Philippines</td>\n",
              "      <td>0.469647</td>\n",
              "      <td>42679</td>\n",
              "    </tr>\n",
              "    <tr>\n",
              "      <th>1</th>\n",
              "      <td>Agusan</td>\n",
              "      <td>Philippines</td>\n",
              "      <td>0.469647</td>\n",
              "      <td>42679</td>\n",
              "    </tr>\n",
              "    <tr>\n",
              "      <th>2</th>\n",
              "      <td>Bharathappuzha</td>\n",
              "      <td>India</td>\n",
              "      <td>0.357340</td>\n",
              "      <td>32517</td>\n",
              "    </tr>\n",
              "    <tr>\n",
              "      <th>3</th>\n",
              "      <td>Cagayan River</td>\n",
              "      <td>Philippines</td>\n",
              "      <td>0.234824</td>\n",
              "      <td>21368</td>\n",
              "    </tr>\n",
              "    <tr>\n",
              "      <th>4</th>\n",
              "      <td>Cagayan de Oro</td>\n",
              "      <td>Philippines</td>\n",
              "      <td>0.265453</td>\n",
              "      <td>24156</td>\n",
              "    </tr>\n",
              "  </tbody>\n",
              "</table>\n",
              "</div>"
            ],
            "text/plain": [
              "           Entity      Country  sharePlastics  plasticWaste\n",
              "0            Agno  Philippines       0.469647         42679\n",
              "1          Agusan  Philippines       0.469647         42679\n",
              "2  Bharathappuzha        India       0.357340         32517\n",
              "3   Cagayan River  Philippines       0.234824         21368\n",
              "4  Cagayan de Oro  Philippines       0.265453         24156"
            ]
          },
          "metadata": {},
          "execution_count": 3
        }
      ]
    },
    {
      "cell_type": "markdown",
      "metadata": {
        "id": "vQOO0yDn3mAn"
      },
      "source": [
        "Looking at the csv we see that we are only working with four columns of data. This is going to be less focused on checking data viablility and more about exploring what the data has to offer."
      ]
    },
    {
      "cell_type": "code",
      "metadata": {
        "colab": {
          "base_uri": "https://localhost:8080/",
          "height": 206
        },
        "id": "lI2aJXw733ho",
        "outputId": "e6b868de-345f-4596-85ee-5b4cb681e09c"
      },
      "source": [
        "score_df.rename(columns={\"Entity\":\"River\", \"sharePlastics\":\"globalPercentage\"},inplace=True)\n",
        "score_df.head()"
      ],
      "execution_count": null,
      "outputs": [
        {
          "output_type": "execute_result",
          "data": {
            "text/html": [
              "<div>\n",
              "<style scoped>\n",
              "    .dataframe tbody tr th:only-of-type {\n",
              "        vertical-align: middle;\n",
              "    }\n",
              "\n",
              "    .dataframe tbody tr th {\n",
              "        vertical-align: top;\n",
              "    }\n",
              "\n",
              "    .dataframe thead th {\n",
              "        text-align: right;\n",
              "    }\n",
              "</style>\n",
              "<table border=\"1\" class=\"dataframe\">\n",
              "  <thead>\n",
              "    <tr style=\"text-align: right;\">\n",
              "      <th></th>\n",
              "      <th>River</th>\n",
              "      <th>Country</th>\n",
              "      <th>globalPercentage</th>\n",
              "      <th>plasticWaste</th>\n",
              "    </tr>\n",
              "  </thead>\n",
              "  <tbody>\n",
              "    <tr>\n",
              "      <th>0</th>\n",
              "      <td>Agno</td>\n",
              "      <td>Philippines</td>\n",
              "      <td>0.469647</td>\n",
              "      <td>42679</td>\n",
              "    </tr>\n",
              "    <tr>\n",
              "      <th>1</th>\n",
              "      <td>Agusan</td>\n",
              "      <td>Philippines</td>\n",
              "      <td>0.469647</td>\n",
              "      <td>42679</td>\n",
              "    </tr>\n",
              "    <tr>\n",
              "      <th>2</th>\n",
              "      <td>Bharathappuzha</td>\n",
              "      <td>India</td>\n",
              "      <td>0.357340</td>\n",
              "      <td>32517</td>\n",
              "    </tr>\n",
              "    <tr>\n",
              "      <th>3</th>\n",
              "      <td>Cagayan River</td>\n",
              "      <td>Philippines</td>\n",
              "      <td>0.234824</td>\n",
              "      <td>21368</td>\n",
              "    </tr>\n",
              "    <tr>\n",
              "      <th>4</th>\n",
              "      <td>Cagayan de Oro</td>\n",
              "      <td>Philippines</td>\n",
              "      <td>0.265453</td>\n",
              "      <td>24156</td>\n",
              "    </tr>\n",
              "  </tbody>\n",
              "</table>\n",
              "</div>"
            ],
            "text/plain": [
              "            River      Country  globalPercentage  plasticWaste\n",
              "0            Agno  Philippines          0.469647         42679\n",
              "1          Agusan  Philippines          0.469647         42679\n",
              "2  Bharathappuzha        India          0.357340         32517\n",
              "3   Cagayan River  Philippines          0.234824         21368\n",
              "4  Cagayan de Oro  Philippines          0.265453         24156"
            ]
          },
          "metadata": {},
          "execution_count": 4
        }
      ]
    },
    {
      "cell_type": "code",
      "metadata": {
        "colab": {
          "base_uri": "https://localhost:8080/"
        },
        "id": "ZGsdsgZg4dUx",
        "outputId": "fecef96c-98b2-4dec-8070-1b83128e7279"
      },
      "source": [
        "score_df.dtypes"
      ],
      "execution_count": null,
      "outputs": [
        {
          "output_type": "execute_result",
          "data": {
            "text/plain": [
              "River                object\n",
              "Country              object\n",
              "globalPercentage    float64\n",
              "plasticWaste          int64\n",
              "dtype: object"
            ]
          },
          "metadata": {},
          "execution_count": 5
        }
      ]
    },
    {
      "cell_type": "code",
      "metadata": {
        "colab": {
          "base_uri": "https://localhost:8080/"
        },
        "id": "r0awDX8GDXMZ",
        "outputId": "a590ca7d-11d1-423d-ddc6-b7b8294ccbf9"
      },
      "source": [
        "print (score_df)"
      ],
      "execution_count": null,
      "outputs": [
        {
          "output_type": "stream",
          "name": "stdout",
          "text": [
            "                     River             Country  globalPercentage  plasticWaste\n",
            "0                     Agno         Philippines          0.469647         42679\n",
            "1                   Agusan         Philippines          0.469647         42679\n",
            "2           Bharathappuzha               India          0.357340         32517\n",
            "3            Cagayan River         Philippines          0.234824         21368\n",
            "4           Cagayan de Oro         Philippines          0.265453         24156\n",
            "5              Chao Phraya            Thailand          0.408389         37163\n",
            "6           Chenzhen River               China          0.296082         26943\n",
            "7            Chilyar River               India          0.234824         21368\n",
            "8                Cilliwung           Indonesia          0.285872         26014\n",
            "9              Davao River         Philippines          0.265453         24156\n",
            "10          Douala Estuary            Cameroon          0.234824         21368\n",
            "11            Ebrie Lagoon       Cote d'Ivoire          0.336921         30659\n",
            "12                  Ganges               India          0.633003         57603\n",
            "13               Hamulauon         Philippines          0.224614         20439\n",
            "14                 Huangpu               China          0.367550         33447\n",
            "15                   Hugli               India          0.398179         36234\n",
            "16                  Iloilo         Philippines          0.428809         39021\n",
            "17                    Imus         Philippines          0.316502         28801\n",
            "18            Jalaur River         Philippines          0.234824         21368\n",
            "19              Karnaphuli          Bangladesh          0.265453         24156\n",
            "20                  Kelani           Sri Lanka          0.275663         25085\n",
            "21          Kelantan River            Malaysia          0.255243         23227\n",
            "22                   Klang            Malaysia          1.327265        120781\n",
            "23           Lagos Harbour             Nigeria          0.408389         37163\n",
            "24                  Langat            Malaysia          0.285872         26014\n",
            "25                Libmanan         Philippines          0.724891         65965\n",
            "26             Malad Creek               India          0.275663         25085\n",
            "27          Malaking Tubig         Philippines          0.255243         23227\n",
            "28              Meycauayan         Philippines          1.225167        111490\n",
            "29             Mithi River               India          0.224614         20439\n",
            "30          Msimbazi River            Tanzania          0.326711         29730\n",
            "31                Pampanga         Philippines          0.949505         86404\n",
            "32            Panvel Creek               India          0.255243         23227\n",
            "33               Paranaque         Philippines          0.449228         40879\n",
            "34                   Pasig         Philippines          6.432129        585323\n",
            "35        Pazundaung Creek             Myamnar          0.367550         33447\n",
            "36           Periyar River               India          0.234824         21368\n",
            "37  Rio Grande de Mindanao         Philippines          0.541116         49241\n",
            "38               Rio Ozama  Dominican Republic          0.224614         20439\n",
            "39              Rio Pavuna              Brazil          0.265453         24156\n",
            "40                 Sarawak            Malaysia          0.336921         30659\n",
            "41                Soai Rap             Vietnam          0.418599         38092\n",
            "42          Sungai Kuantan            Malaysia          0.224614         20439\n",
            "43                   Tambo         Philippines          0.255243         23227\n",
            "44                Tullahan         Philippines          1.327265        120781\n",
            "45                   Ulhas               India          1.327265        120781\n",
            "46             Wouri River            Cameroon          0.285872         26014\n",
            "47            Yangon River             Myamnar          0.255243         23227\n",
            "48                  Zapote         Philippines          0.275663         25085\n",
            "49                Zhujiang               China          0.255243         23227\n"
          ]
        }
      ]
    },
    {
      "cell_type": "code",
      "metadata": {
        "colab": {
          "base_uri": "https://localhost:8080/",
          "height": 582
        },
        "id": "JhCm-W6b5B5r",
        "outputId": "a047e0a0-88f2-401d-efb0-a498fc4ef415"
      },
      "source": [
        "countries = score_df.groupby(['Country']).sum()\n",
        "countries"
      ],
      "execution_count": null,
      "outputs": [
        {
          "output_type": "execute_result",
          "data": {
            "text/html": [
              "<div>\n",
              "<style scoped>\n",
              "    .dataframe tbody tr th:only-of-type {\n",
              "        vertical-align: middle;\n",
              "    }\n",
              "\n",
              "    .dataframe tbody tr th {\n",
              "        vertical-align: top;\n",
              "    }\n",
              "\n",
              "    .dataframe thead th {\n",
              "        text-align: right;\n",
              "    }\n",
              "</style>\n",
              "<table border=\"1\" class=\"dataframe\">\n",
              "  <thead>\n",
              "    <tr style=\"text-align: right;\">\n",
              "      <th></th>\n",
              "      <th>globalPercentage</th>\n",
              "      <th>plasticWaste</th>\n",
              "    </tr>\n",
              "    <tr>\n",
              "      <th>Country</th>\n",
              "      <th></th>\n",
              "      <th></th>\n",
              "    </tr>\n",
              "  </thead>\n",
              "  <tbody>\n",
              "    <tr>\n",
              "      <th>Bangladesh</th>\n",
              "      <td>0.265453</td>\n",
              "      <td>24156</td>\n",
              "    </tr>\n",
              "    <tr>\n",
              "      <th>Brazil</th>\n",
              "      <td>0.265453</td>\n",
              "      <td>24156</td>\n",
              "    </tr>\n",
              "    <tr>\n",
              "      <th>Cameroon</th>\n",
              "      <td>0.520696</td>\n",
              "      <td>47382</td>\n",
              "    </tr>\n",
              "    <tr>\n",
              "      <th>China</th>\n",
              "      <td>0.918876</td>\n",
              "      <td>83617</td>\n",
              "    </tr>\n",
              "    <tr>\n",
              "      <th>Cote d'Ivoire</th>\n",
              "      <td>0.336921</td>\n",
              "      <td>30659</td>\n",
              "    </tr>\n",
              "    <tr>\n",
              "      <th>Dominican Republic</th>\n",
              "      <td>0.224614</td>\n",
              "      <td>20439</td>\n",
              "    </tr>\n",
              "    <tr>\n",
              "      <th>India</th>\n",
              "      <td>3.940955</td>\n",
              "      <td>358622</td>\n",
              "    </tr>\n",
              "    <tr>\n",
              "      <th>Indonesia</th>\n",
              "      <td>0.285872</td>\n",
              "      <td>26014</td>\n",
              "    </tr>\n",
              "    <tr>\n",
              "      <th>Malaysia</th>\n",
              "      <td>2.429915</td>\n",
              "      <td>221120</td>\n",
              "    </tr>\n",
              "    <tr>\n",
              "      <th>Myamnar</th>\n",
              "      <td>0.622793</td>\n",
              "      <td>56674</td>\n",
              "    </tr>\n",
              "    <tr>\n",
              "      <th>Nigeria</th>\n",
              "      <td>0.408389</td>\n",
              "      <td>37163</td>\n",
              "    </tr>\n",
              "    <tr>\n",
              "      <th>Philippines</th>\n",
              "      <td>15.345222</td>\n",
              "      <td>1396289</td>\n",
              "    </tr>\n",
              "    <tr>\n",
              "      <th>Sri Lanka</th>\n",
              "      <td>0.275663</td>\n",
              "      <td>25085</td>\n",
              "    </tr>\n",
              "    <tr>\n",
              "      <th>Tanzania</th>\n",
              "      <td>0.326711</td>\n",
              "      <td>29730</td>\n",
              "    </tr>\n",
              "    <tr>\n",
              "      <th>Thailand</th>\n",
              "      <td>0.408389</td>\n",
              "      <td>37163</td>\n",
              "    </tr>\n",
              "    <tr>\n",
              "      <th>Vietnam</th>\n",
              "      <td>0.418599</td>\n",
              "      <td>38092</td>\n",
              "    </tr>\n",
              "  </tbody>\n",
              "</table>\n",
              "</div>"
            ],
            "text/plain": [
              "                    globalPercentage  plasticWaste\n",
              "Country                                           \n",
              "Bangladesh                  0.265453         24156\n",
              "Brazil                      0.265453         24156\n",
              "Cameroon                    0.520696         47382\n",
              "China                       0.918876         83617\n",
              "Cote d'Ivoire               0.336921         30659\n",
              "Dominican Republic          0.224614         20439\n",
              "India                       3.940955        358622\n",
              "Indonesia                   0.285872         26014\n",
              "Malaysia                    2.429915        221120\n",
              "Myamnar                     0.622793         56674\n",
              "Nigeria                     0.408389         37163\n",
              "Philippines                15.345222       1396289\n",
              "Sri Lanka                   0.275663         25085\n",
              "Tanzania                    0.326711         29730\n",
              "Thailand                    0.408389         37163\n",
              "Vietnam                     0.418599         38092"
            ]
          },
          "metadata": {},
          "execution_count": 7
        }
      ]
    },
    {
      "cell_type": "markdown",
      "metadata": {
        "id": "GXYU9G7SEfyj"
      },
      "source": [
        "Now that we have the waste by volume we can start to see how much trash is being added to the ocean each year as both a total and from different rivers and countries."
      ]
    },
    {
      "cell_type": "code",
      "metadata": {
        "colab": {
          "base_uri": "https://localhost:8080/"
        },
        "id": "QQkvpJxUEfRd",
        "outputId": "35803dab-1630-46f7-a500-3878b99367ac"
      },
      "source": [
        "sumScores = score_df['plasticWaste'].sum()\n",
        "sumScores"
      ],
      "execution_count": null,
      "outputs": [
        {
          "output_type": "execute_result",
          "data": {
            "text/plain": [
              "2456361"
            ]
          },
          "metadata": {},
          "execution_count": 8
        }
      ]
    },
    {
      "cell_type": "code",
      "metadata": {
        "colab": {
          "base_uri": "https://localhost:8080/",
          "height": 252
        },
        "id": "7L1HWcO7QuWF",
        "outputId": "b253ad57-3f51-4bb1-a0c9-e592f363c8be"
      },
      "source": [
        "countryList = ['India', 'Malaysia', 'Philippines']\n",
        "wasteAmount = [358622, 221120, 1396289]\n",
        "SumTopThree = 1976031\n",
        "fig, ax = plt.subplots()\n",
        "ax.pie(wasteAmount, labels = countryList, autopct='%1.1f%%')\n",
        "\n",
        "ax.axis('equal')\n",
        "\n",
        "plt.show()"
      ],
      "execution_count": null,
      "outputs": [
        {
          "output_type": "display_data",
          "data": {
            "image/png": "[encoded data removed]",
            "text/plain": [
              "<Figure size 432x288 with 1 Axes>"
            ]
          },
          "metadata": {}
        }
      ]
    },
    {
      "cell_type": "markdown",
      "metadata": {
        "id": "pC1OgL2cEQDS"
      },
      "source": [
        "Out of the top 3 countries that contribute to plastic pollution the most the Plilippines contributes the most plastic waste into their rivers. Let's take a closer look at the Philippines to see where exactly the waste is coming from."
      ]
    },
    {
      "cell_type": "code",
      "metadata": {
        "colab": {
          "base_uri": "https://localhost:8080/",
          "height": 1000
        },
        "id": "BRBlnSR_EwA2",
        "outputId": "5384c67a-8001-4fb2-aeb8-bf8063d68f3c"
      },
      "source": [
        "score_df.sort_values(by='Country', ascending=True)"
      ],
      "execution_count": null,
      "outputs": [
        {
          "output_type": "execute_result",
          "data": {
            "text/html": [
              "<div>\n",
              "<style scoped>\n",
              "    .dataframe tbody tr th:only-of-type {\n",
              "        vertical-align: middle;\n",
              "    }\n",
              "\n",
              "    .dataframe tbody tr th {\n",
              "        vertical-align: top;\n",
              "    }\n",
              "\n",
              "    .dataframe thead th {\n",
              "        text-align: right;\n",
              "    }\n",
              "</style>\n",
              "<table border=\"1\" class=\"dataframe\">\n",
              "  <thead>\n",
              "    <tr style=\"text-align: right;\">\n",
              "      <th></th>\n",
              "      <th>River</th>\n",
              "      <th>Country</th>\n",
              "      <th>globalPercentage</th>\n",
              "      <th>plasticWaste</th>\n",
              "    </tr>\n",
              "  </thead>\n",
              "  <tbody>\n",
              "    <tr>\n",
              "      <th>19</th>\n",
              "      <td>Karnaphuli</td>\n",
              "      <td>Bangladesh</td>\n",
              "      <td>0.265453</td>\n",
              "      <td>24156</td>\n",
              "    </tr>\n",
              "    <tr>\n",
              "      <th>39</th>\n",
              "      <td>Rio Pavuna</td>\n",
              "      <td>Brazil</td>\n",
              "      <td>0.265453</td>\n",
              "      <td>24156</td>\n",
              "    </tr>\n",
              "    <tr>\n",
              "      <th>10</th>\n",
              "      <td>Douala Estuary</td>\n",
              "      <td>Cameroon</td>\n",
              "      <td>0.234824</td>\n",
              "      <td>21368</td>\n",
              "    </tr>\n",
              "    <tr>\n",
              "      <th>46</th>\n",
              "      <td>Wouri River</td>\n",
              "      <td>Cameroon</td>\n",
              "      <td>0.285872</td>\n",
              "      <td>26014</td>\n",
              "    </tr>\n",
              "    <tr>\n",
              "      <th>14</th>\n",
              "      <td>Huangpu</td>\n",
              "      <td>China</td>\n",
              "      <td>0.367550</td>\n",
              "      <td>33447</td>\n",
              "    </tr>\n",
              "    <tr>\n",
              "      <th>6</th>\n",
              "      <td>Chenzhen River</td>\n",
              "      <td>China</td>\n",
              "      <td>0.296082</td>\n",
              "      <td>26943</td>\n",
              "    </tr>\n",
              "    <tr>\n",
              "      <th>49</th>\n",
              "      <td>Zhujiang</td>\n",
              "      <td>China</td>\n",
              "      <td>0.255243</td>\n",
              "      <td>23227</td>\n",
              "    </tr>\n",
              "    <tr>\n",
              "      <th>11</th>\n",
              "      <td>Ebrie Lagoon</td>\n",
              "      <td>Cote d'Ivoire</td>\n",
              "      <td>0.336921</td>\n",
              "      <td>30659</td>\n",
              "    </tr>\n",
              "    <tr>\n",
              "      <th>38</th>\n",
              "      <td>Rio Ozama</td>\n",
              "      <td>Dominican Republic</td>\n",
              "      <td>0.224614</td>\n",
              "      <td>20439</td>\n",
              "    </tr>\n",
              "    <tr>\n",
              "      <th>7</th>\n",
              "      <td>Chilyar River</td>\n",
              "      <td>India</td>\n",
              "      <td>0.234824</td>\n",
              "      <td>21368</td>\n",
              "    </tr>\n",
              "    <tr>\n",
              "      <th>26</th>\n",
              "      <td>Malad Creek</td>\n",
              "      <td>India</td>\n",
              "      <td>0.275663</td>\n",
              "      <td>25085</td>\n",
              "    </tr>\n",
              "    <tr>\n",
              "      <th>12</th>\n",
              "      <td>Ganges</td>\n",
              "      <td>India</td>\n",
              "      <td>0.633003</td>\n",
              "      <td>57603</td>\n",
              "    </tr>\n",
              "    <tr>\n",
              "      <th>45</th>\n",
              "      <td>Ulhas</td>\n",
              "      <td>India</td>\n",
              "      <td>1.327265</td>\n",
              "      <td>120781</td>\n",
              "    </tr>\n",
              "    <tr>\n",
              "      <th>15</th>\n",
              "      <td>Hugli</td>\n",
              "      <td>India</td>\n",
              "      <td>0.398179</td>\n",
              "      <td>36234</td>\n",
              "    </tr>\n",
              "    <tr>\n",
              "      <th>36</th>\n",
              "      <td>Periyar River</td>\n",
              "      <td>India</td>\n",
              "      <td>0.234824</td>\n",
              "      <td>21368</td>\n",
              "    </tr>\n",
              "    <tr>\n",
              "      <th>32</th>\n",
              "      <td>Panvel Creek</td>\n",
              "      <td>India</td>\n",
              "      <td>0.255243</td>\n",
              "      <td>23227</td>\n",
              "    </tr>\n",
              "    <tr>\n",
              "      <th>29</th>\n",
              "      <td>Mithi River</td>\n",
              "      <td>India</td>\n",
              "      <td>0.224614</td>\n",
              "      <td>20439</td>\n",
              "    </tr>\n",
              "    <tr>\n",
              "      <th>2</th>\n",
              "      <td>Bharathappuzha</td>\n",
              "      <td>India</td>\n",
              "      <td>0.357340</td>\n",
              "      <td>32517</td>\n",
              "    </tr>\n",
              "    <tr>\n",
              "      <th>8</th>\n",
              "      <td>Cilliwung</td>\n",
              "      <td>Indonesia</td>\n",
              "      <td>0.285872</td>\n",
              "      <td>26014</td>\n",
              "    </tr>\n",
              "    <tr>\n",
              "      <th>42</th>\n",
              "      <td>Sungai Kuantan</td>\n",
              "      <td>Malaysia</td>\n",
              "      <td>0.224614</td>\n",
              "      <td>20439</td>\n",
              "    </tr>\n",
              "    <tr>\n",
              "      <th>40</th>\n",
              "      <td>Sarawak</td>\n",
              "      <td>Malaysia</td>\n",
              "      <td>0.336921</td>\n",
              "      <td>30659</td>\n",
              "    </tr>\n",
              "    <tr>\n",
              "      <th>22</th>\n",
              "      <td>Klang</td>\n",
              "      <td>Malaysia</td>\n",
              "      <td>1.327265</td>\n",
              "      <td>120781</td>\n",
              "    </tr>\n",
              "    <tr>\n",
              "      <th>24</th>\n",
              "      <td>Langat</td>\n",
              "      <td>Malaysia</td>\n",
              "      <td>0.285872</td>\n",
              "      <td>26014</td>\n",
              "    </tr>\n",
              "    <tr>\n",
              "      <th>21</th>\n",
              "      <td>Kelantan River</td>\n",
              "      <td>Malaysia</td>\n",
              "      <td>0.255243</td>\n",
              "      <td>23227</td>\n",
              "    </tr>\n",
              "    <tr>\n",
              "      <th>47</th>\n",
              "      <td>Yangon River</td>\n",
              "      <td>Myamnar</td>\n",
              "      <td>0.255243</td>\n",
              "      <td>23227</td>\n",
              "    </tr>\n",
              "    <tr>\n",
              "      <th>35</th>\n",
              "      <td>Pazundaung Creek</td>\n",
              "      <td>Myamnar</td>\n",
              "      <td>0.367550</td>\n",
              "      <td>33447</td>\n",
              "    </tr>\n",
              "    <tr>\n",
              "      <th>23</th>\n",
              "      <td>Lagos Harbour</td>\n",
              "      <td>Nigeria</td>\n",
              "      <td>0.408389</td>\n",
              "      <td>37163</td>\n",
              "    </tr>\n",
              "    <tr>\n",
              "      <th>1</th>\n",
              "      <td>Agusan</td>\n",
              "      <td>Philippines</td>\n",
              "      <td>0.469647</td>\n",
              "      <td>42679</td>\n",
              "    </tr>\n",
              "    <tr>\n",
              "      <th>3</th>\n",
              "      <td>Cagayan River</td>\n",
              "      <td>Philippines</td>\n",
              "      <td>0.234824</td>\n",
              "      <td>21368</td>\n",
              "    </tr>\n",
              "    <tr>\n",
              "      <th>44</th>\n",
              "      <td>Tullahan</td>\n",
              "      <td>Philippines</td>\n",
              "      <td>1.327265</td>\n",
              "      <td>120781</td>\n",
              "    </tr>\n",
              "    <tr>\n",
              "      <th>43</th>\n",
              "      <td>Tambo</td>\n",
              "      <td>Philippines</td>\n",
              "      <td>0.255243</td>\n",
              "      <td>23227</td>\n",
              "    </tr>\n",
              "    <tr>\n",
              "      <th>4</th>\n",
              "      <td>Cagayan de Oro</td>\n",
              "      <td>Philippines</td>\n",
              "      <td>0.265453</td>\n",
              "      <td>24156</td>\n",
              "    </tr>\n",
              "    <tr>\n",
              "      <th>9</th>\n",
              "      <td>Davao River</td>\n",
              "      <td>Philippines</td>\n",
              "      <td>0.265453</td>\n",
              "      <td>24156</td>\n",
              "    </tr>\n",
              "    <tr>\n",
              "      <th>13</th>\n",
              "      <td>Hamulauon</td>\n",
              "      <td>Philippines</td>\n",
              "      <td>0.224614</td>\n",
              "      <td>20439</td>\n",
              "    </tr>\n",
              "    <tr>\n",
              "      <th>37</th>\n",
              "      <td>Rio Grande de Mindanao</td>\n",
              "      <td>Philippines</td>\n",
              "      <td>0.541116</td>\n",
              "      <td>49241</td>\n",
              "    </tr>\n",
              "    <tr>\n",
              "      <th>16</th>\n",
              "      <td>Iloilo</td>\n",
              "      <td>Philippines</td>\n",
              "      <td>0.428809</td>\n",
              "      <td>39021</td>\n",
              "    </tr>\n",
              "    <tr>\n",
              "      <th>33</th>\n",
              "      <td>Paranaque</td>\n",
              "      <td>Philippines</td>\n",
              "      <td>0.449228</td>\n",
              "      <td>40879</td>\n",
              "    </tr>\n",
              "    <tr>\n",
              "      <th>17</th>\n",
              "      <td>Imus</td>\n",
              "      <td>Philippines</td>\n",
              "      <td>0.316502</td>\n",
              "      <td>28801</td>\n",
              "    </tr>\n",
              "    <tr>\n",
              "      <th>31</th>\n",
              "      <td>Pampanga</td>\n",
              "      <td>Philippines</td>\n",
              "      <td>0.949505</td>\n",
              "      <td>86404</td>\n",
              "    </tr>\n",
              "    <tr>\n",
              "      <th>18</th>\n",
              "      <td>Jalaur River</td>\n",
              "      <td>Philippines</td>\n",
              "      <td>0.234824</td>\n",
              "      <td>21368</td>\n",
              "    </tr>\n",
              "    <tr>\n",
              "      <th>28</th>\n",
              "      <td>Meycauayan</td>\n",
              "      <td>Philippines</td>\n",
              "      <td>1.225167</td>\n",
              "      <td>111490</td>\n",
              "    </tr>\n",
              "    <tr>\n",
              "      <th>27</th>\n",
              "      <td>Malaking Tubig</td>\n",
              "      <td>Philippines</td>\n",
              "      <td>0.255243</td>\n",
              "      <td>23227</td>\n",
              "    </tr>\n",
              "    <tr>\n",
              "      <th>25</th>\n",
              "      <td>Libmanan</td>\n",
              "      <td>Philippines</td>\n",
              "      <td>0.724891</td>\n",
              "      <td>65965</td>\n",
              "    </tr>\n",
              "    <tr>\n",
              "      <th>48</th>\n",
              "      <td>Zapote</td>\n",
              "      <td>Philippines</td>\n",
              "      <td>0.275663</td>\n",
              "      <td>25085</td>\n",
              "    </tr>\n",
              "    <tr>\n",
              "      <th>34</th>\n",
              "      <td>Pasig</td>\n",
              "      <td>Philippines</td>\n",
              "      <td>6.432129</td>\n",
              "      <td>585323</td>\n",
              "    </tr>\n",
              "    <tr>\n",
              "      <th>0</th>\n",
              "      <td>Agno</td>\n",
              "      <td>Philippines</td>\n",
              "      <td>0.469647</td>\n",
              "      <td>42679</td>\n",
              "    </tr>\n",
              "    <tr>\n",
              "      <th>20</th>\n",
              "      <td>Kelani</td>\n",
              "      <td>Sri Lanka</td>\n",
              "      <td>0.275663</td>\n",
              "      <td>25085</td>\n",
              "    </tr>\n",
              "    <tr>\n",
              "      <th>30</th>\n",
              "      <td>Msimbazi River</td>\n",
              "      <td>Tanzania</td>\n",
              "      <td>0.326711</td>\n",
              "      <td>29730</td>\n",
              "    </tr>\n",
              "    <tr>\n",
              "      <th>5</th>\n",
              "      <td>Chao Phraya</td>\n",
              "      <td>Thailand</td>\n",
              "      <td>0.408389</td>\n",
              "      <td>37163</td>\n",
              "    </tr>\n",
              "    <tr>\n",
              "      <th>41</th>\n",
              "      <td>Soai Rap</td>\n",
              "      <td>Vietnam</td>\n",
              "      <td>0.418599</td>\n",
              "      <td>38092</td>\n",
              "    </tr>\n",
              "  </tbody>\n",
              "</table>\n",
              "</div>"
            ],
            "text/plain": [
              "                     River             Country  globalPercentage  plasticWaste\n",
              "19              Karnaphuli          Bangladesh          0.265453         24156\n",
              "39              Rio Pavuna              Brazil          0.265453         24156\n",
              "10          Douala Estuary            Cameroon          0.234824         21368\n",
              "46             Wouri River            Cameroon          0.285872         26014\n",
              "14                 Huangpu               China          0.367550         33447\n",
              "6           Chenzhen River               China          0.296082         26943\n",
              "49                Zhujiang               China          0.255243         23227\n",
              "11            Ebrie Lagoon       Cote d'Ivoire          0.336921         30659\n",
              "38               Rio Ozama  Dominican Republic          0.224614         20439\n",
              "7            Chilyar River               India          0.234824         21368\n",
              "26             Malad Creek               India          0.275663         25085\n",
              "12                  Ganges               India          0.633003         57603\n",
              "45                   Ulhas               India          1.327265        120781\n",
              "15                   Hugli               India          0.398179         36234\n",
              "36           Periyar River               India          0.234824         21368\n",
              "32            Panvel Creek               India          0.255243         23227\n",
              "29             Mithi River               India          0.224614         20439\n",
              "2           Bharathappuzha               India          0.357340         32517\n",
              "8                Cilliwung           Indonesia          0.285872         26014\n",
              "42          Sungai Kuantan            Malaysia          0.224614         20439\n",
              "40                 Sarawak            Malaysia          0.336921         30659\n",
              "22                   Klang            Malaysia          1.327265        120781\n",
              "24                  Langat            Malaysia          0.285872         26014\n",
              "21          Kelantan River            Malaysia          0.255243         23227\n",
              "47            Yangon River             Myamnar          0.255243         23227\n",
              "35        Pazundaung Creek             Myamnar          0.367550         33447\n",
              "23           Lagos Harbour             Nigeria          0.408389         37163\n",
              "1                   Agusan         Philippines          0.469647         42679\n",
              "3            Cagayan River         Philippines          0.234824         21368\n",
              "44                Tullahan         Philippines          1.327265        120781\n",
              "43                   Tambo         Philippines          0.255243         23227\n",
              "4           Cagayan de Oro         Philippines          0.265453         24156\n",
              "9              Davao River         Philippines          0.265453         24156\n",
              "13               Hamulauon         Philippines          0.224614         20439\n",
              "37  Rio Grande de Mindanao         Philippines          0.541116         49241\n",
              "16                  Iloilo         Philippines          0.428809         39021\n",
              "33               Paranaque         Philippines          0.449228         40879\n",
              "17                    Imus         Philippines          0.316502         28801\n",
              "31                Pampanga         Philippines          0.949505         86404\n",
              "18            Jalaur River         Philippines          0.234824         21368\n",
              "28              Meycauayan         Philippines          1.225167        111490\n",
              "27          Malaking Tubig         Philippines          0.255243         23227\n",
              "25                Libmanan         Philippines          0.724891         65965\n",
              "48                  Zapote         Philippines          0.275663         25085\n",
              "34                   Pasig         Philippines          6.432129        585323\n",
              "0                     Agno         Philippines          0.469647         42679\n",
              "20                  Kelani           Sri Lanka          0.275663         25085\n",
              "30          Msimbazi River            Tanzania          0.326711         29730\n",
              "5              Chao Phraya            Thailand          0.408389         37163\n",
              "41                Soai Rap             Vietnam          0.418599         38092"
            ]
          },
          "metadata": {},
          "execution_count": 10
        }
      ]
    },
    {
      "cell_type": "code",
      "metadata": {
        "id": "zumgPs6JH1IM",
        "colab": {
          "base_uri": "https://localhost:8080/",
          "height": 880
        },
        "outputId": "f74c3915-ef71-41c1-cbca-05ddcb8282c3"
      },
      "source": [
        "countryList = ['Bangladesh', 'Brazil', 'Cameroon', 'China', \"Cote d'Ivoire\", 'Dominican Republic', 'India', 'Indonesia', 'Malaysia', 'Myamnar', 'Nigeria', 'Philippines', 'Sri Lanka', 'Tanzania', 'Thailand', 'Vietnam']\n",
        "numberRivers = [1, 1, 2, 3, 1, 1, 9, 1, 5, 2, 1, 19, 1, 1, 1, 1]\n",
        "\n",
        "plt.figure(figsize=(25, 15))\n",
        "display(plt.bar(countryList, numberRivers))"
      ],
      "execution_count": null,
      "outputs": [
        {
          "output_type": "display_data",
          "data": {
            "text/plain": [
              "<BarContainer object of 16 artists>"
            ]
          },
          "metadata": {}
        },
        {
          "output_type": "display_data",
          "data": {
            "image/png": "[encoded data removed]",
            "text/plain": [
              "<Figure size 1800x1080 with 1 Axes>"
            ]
          },
          "metadata": {
            "needs_background": "light"
          }
        }
      ]
    },
    {
      "cell_type": "markdown",
      "source": [
        "It appears that the amount of rivers does influence if a country contributes to more pollution. In order to develop this further more data would be needed. We would need the data for every river that empties into the ocean. This is something that I want to continue to work on and as more data becoms available I will add to this. Once data from every river in the world that empties into an ocean is available I also want to include an interactive map. This map would allow the user to see what rivers are in a country as well as relevant data like how much plastic enters the ocean from that river yearly."
      ],
      "metadata": {
        "id": "oGepxVQJ3KCn"
      }
    },
    {
      "cell_type": "code",
      "source": [
        "riverList = ['Agusan', 'Cagayan River', 'Tullahan', 'Tambo', 'Cagayan de Oro', 'Davao River', 'Hamulauon', 'Rio Grande de Mindanao', 'Iloilo', 'Paranaque', 'Imus', 'Pampanga', 'Jalaur River', 'Meycauayan', 'Malaking Tubig\t', 'Libmanan', 'Zapote', 'Pasig', 'Agno']\n",
        "plasticWaste = [42679, 21368, 120781, 23227, 24156, 24156, 20439, 49241, 39021, 40879, 28801, 86404, 21368, 111490, 23227, 65965, 25085, 585323, 42679]\n",
        "\n",
        "fig, ax = plt.subplots()\n",
        "ax.pie(plasticWaste, labels = riverList, autopct='%1.1f%%', radius = 5)\n",
        "\n",
        "plt.show()"
      ],
      "metadata": {
        "id": "eDHYN1tX42fN",
        "colab": {
          "base_uri": "https://localhost:8080/",
          "height": 1000
        },
        "outputId": "4b23c351-cb58-4f6f-d753-e65ba89a3184"
      },
      "execution_count": null,
      "outputs": [
        {
          "output_type": "stream",
          "name": "stderr",
          "text": [
            "/usr/local/lib/python3.7/dist-packages/matplotlib/backends/backend_agg.py:214: RuntimeWarning: Glyph 9 missing from current font.\n",
            "  font.set_text(s, 0.0, flags=flags)\n",
            "/usr/local/lib/python3.7/dist-packages/matplotlib/backends/backend_agg.py:183: RuntimeWarning: Glyph 9 missing from current font.\n",
            "  font.set_text(s, 0, flags=flags)\n"
          ]
        },
        {
          "output_type": "display_data",
          "data": {
            "image/png": "[encoded data removed]",
            "text/plain": [
              "<Figure size 432x288 with 1 Axes>"
            ]
          },
          "metadata": {}
        }
      ]
    },
    {
      "cell_type": "markdown",
      "source": [
        "The Pasig River is the culprit for most of the pollution from the Philippines. Further research is needed to determine the cause of this rivers contribution to pollution."
      ],
      "metadata": {
        "id": "fB2jhdQBPI_Q"
      }
    }
  ]
}